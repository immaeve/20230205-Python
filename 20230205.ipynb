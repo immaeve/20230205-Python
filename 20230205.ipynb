{
  "nbformat": 4,
  "nbformat_minor": 0,
  "metadata": {
    "colab": {
      "provenance": [],
      "authorship_tag": "ABX9TyMV2xW0cKMVsvnDqE2EhOry",
      "include_colab_link": true
    },
    "kernelspec": {
      "name": "python3",
      "display_name": "Python 3"
    },
    "language_info": {
      "name": "python"
    }
  },
  "cells": [
    {
      "cell_type": "markdown",
      "metadata": {
        "id": "view-in-github",
        "colab_type": "text"
      },
      "source": [
        "<a href=\"https://colab.research.google.com/github/immaeve/20230205-Python/blob/main/20230205.ipynb\" target=\"_parent\"><img src=\"https://colab.research.google.com/assets/colab-badge.svg\" alt=\"Open In Colab\"/></a>"
      ]
    },
    {
      "cell_type": "markdown",
      "source": [
        "#20230205\n"
      ],
      "metadata": {
        "id": "FiDcfyBxt7nc"
      }
    },
    {
      "cell_type": "markdown",
      "source": [
        "# Markdown 語法說明"
      ],
      "metadata": {
        "id": "I9d2qM7YhJnA"
      }
    },
    {
      "cell_type": "markdown",
      "source": [
        "# 最大標題\n",
        "## 次大標題\n",
        "### 次次大標題"
      ],
      "metadata": {
        "id": "j6edcjwAhOvZ"
      }
    },
    {
      "cell_type": "markdown",
      "source": [
        "* item 1\n",
        "* item 2\n",
        "* item 3"
      ],
      "metadata": {
        "id": "9Ajbzf9thX4w"
      }
    },
    {
      "cell_type": "markdown",
      "source": [
        "[唯客學院](https://khpy.teachable.com/)"
      ],
      "metadata": {
        "id": "OJopHASzhhtf"
      }
    },
    {
      "cell_type": "markdown",
      "source": [
        "#變數\n",
        "\n",
        "##變數開頭不為數字,-號也是"
      ],
      "metadata": {
        "id": "4NUjLLCk-An-"
      }
    },
    {
      "cell_type": "code",
      "source": [
        "x = 1"
      ],
      "metadata": {
        "id": "1kyf4Fc6-t09"
      },
      "execution_count": null,
      "outputs": []
    },
    {
      "cell_type": "code",
      "source": [
        "type(x)"
      ],
      "metadata": {
        "colab": {
          "base_uri": "https://localhost:8080/"
        },
        "id": "e7Dy438Y-1ec",
        "outputId": "3af76e96-2f66-4233-ae7f-f564766cb1aa"
      },
      "execution_count": null,
      "outputs": [
        {
          "output_type": "execute_result",
          "data": {
            "text/plain": [
              "int"
            ]
          },
          "metadata": {},
          "execution_count": 5
        }
      ]
    },
    {
      "cell_type": "code",
      "source": [
        "abc = 1"
      ],
      "metadata": {
        "id": "h69fu2gOARzV"
      },
      "execution_count": null,
      "outputs": []
    },
    {
      "cell_type": "markdown",
      "source": [
        "##基本資料型態:\n",
        "\n",
        "* int\n",
        "* float\n",
        "* bool\n",
        "* str (可以是單引號或雙引號,但需要一致)"
      ],
      "metadata": {
        "id": "ceXF6xrouILh"
      }
    },
    {
      "cell_type": "code",
      "execution_count": null,
      "metadata": {
        "id": "EC-a2Tz5sbep"
      },
      "outputs": [],
      "source": [
        "x = 1"
      ]
    },
    {
      "cell_type": "code",
      "source": [
        "type(x)"
      ],
      "metadata": {
        "colab": {
          "base_uri": "https://localhost:8080/"
        },
        "id": "LRrM9z7LBw5j",
        "outputId": "972bae78-8bb3-408b-86c8-8d313fd1a8c7"
      },
      "execution_count": null,
      "outputs": [
        {
          "output_type": "execute_result",
          "data": {
            "text/plain": [
              "int"
            ]
          },
          "metadata": {},
          "execution_count": 8
        }
      ]
    },
    {
      "cell_type": "code",
      "source": [
        "y = 1.0"
      ],
      "metadata": {
        "id": "1n8S-Au7B240"
      },
      "execution_count": null,
      "outputs": []
    },
    {
      "cell_type": "code",
      "source": [
        "type(y)"
      ],
      "metadata": {
        "colab": {
          "base_uri": "https://localhost:8080/"
        },
        "id": "S8k2K11pB8fs",
        "outputId": "036615c1-3fc5-4d66-c658-da15369ffcba"
      },
      "execution_count": null,
      "outputs": [
        {
          "output_type": "execute_result",
          "data": {
            "text/plain": [
              "float"
            ]
          },
          "metadata": {},
          "execution_count": 10
        }
      ]
    },
    {
      "cell_type": "code",
      "source": [
        "3 > 2"
      ],
      "metadata": {
        "colab": {
          "base_uri": "https://localhost:8080/"
        },
        "id": "ooHILhSYCAwm",
        "outputId": "ec286aee-470a-4355-f86b-e7e08ce9f3d1"
      },
      "execution_count": null,
      "outputs": [
        {
          "output_type": "execute_result",
          "data": {
            "text/plain": [
              "True"
            ]
          },
          "metadata": {},
          "execution_count": 11
        }
      ]
    },
    {
      "cell_type": "code",
      "source": [
        "3 < 2"
      ],
      "metadata": {
        "colab": {
          "base_uri": "https://localhost:8080/"
        },
        "id": "VuSDTdfoCICz",
        "outputId": "a334a9d5-cf43-414b-bcc9-5597827975f5"
      },
      "execution_count": null,
      "outputs": [
        {
          "output_type": "execute_result",
          "data": {
            "text/plain": [
              "False"
            ]
          },
          "metadata": {},
          "execution_count": 12
        }
      ]
    },
    {
      "cell_type": "code",
      "source": [
        "z = 3 > 2"
      ],
      "metadata": {
        "id": "f0EJk0IfCM8D"
      },
      "execution_count": null,
      "outputs": []
    },
    {
      "cell_type": "code",
      "source": [
        "type(z)"
      ],
      "metadata": {
        "colab": {
          "base_uri": "https://localhost:8080/"
        },
        "id": "Hzsq2Fl5CRdk",
        "outputId": "ccbc606a-e86f-4360-dbc4-01df177bc9f8"
      },
      "execution_count": null,
      "outputs": [
        {
          "output_type": "execute_result",
          "data": {
            "text/plain": [
              "bool"
            ]
          },
          "metadata": {},
          "execution_count": 14
        }
      ]
    },
    {
      "cell_type": "code",
      "source": [
        "z"
      ],
      "metadata": {
        "colab": {
          "base_uri": "https://localhost:8080/"
        },
        "id": "wNTfCZHPCUu7",
        "outputId": "64295be3-02b0-4ca8-e00f-a75d839769c1"
      },
      "execution_count": null,
      "outputs": [
        {
          "output_type": "execute_result",
          "data": {
            "text/plain": [
              "True"
            ]
          },
          "metadata": {},
          "execution_count": 15
        }
      ]
    },
    {
      "cell_type": "code",
      "source": [
        "i = \"cat\""
      ],
      "metadata": {
        "id": "0v1FG-9TCtPQ"
      },
      "execution_count": null,
      "outputs": []
    },
    {
      "cell_type": "code",
      "source": [
        "type(i)"
      ],
      "metadata": {
        "colab": {
          "base_uri": "https://localhost:8080/"
        },
        "id": "Fk9k96hYC1hE",
        "outputId": "806a35f3-0b6e-41ef-8aa1-2344eae72e24"
      },
      "execution_count": null,
      "outputs": [
        {
          "output_type": "execute_result",
          "data": {
            "text/plain": [
              "str"
            ]
          },
          "metadata": {},
          "execution_count": 18
        }
      ]
    },
    {
      "cell_type": "markdown",
      "source": [
        "#應用\n",
        "\n",
        "使用LINE Notify 傳訊息給自己"
      ],
      "metadata": {
        "id": "CbnF_Yv-D7vA"
      }
    },
    {
      "cell_type": "markdown",
      "source": [
        " 從 github 將 linenotify.py 下載到colab裡面來"
      ],
      "metadata": {
        "id": "2eXwXcFfFGzX"
      }
    },
    {
      "cell_type": "code",
      "source": [
        "!wget https://raw.githubusercontent.com/victorgau/khpy_linenotify_intro/main/py/linenotify.py"
      ],
      "metadata": {
        "colab": {
          "base_uri": "https://localhost:8080/"
        },
        "id": "Y4LdXZzLC7F0",
        "outputId": "c22e597c-ed84-4d87-b96a-3549503f5f3e"
      },
      "execution_count": null,
      "outputs": [
        {
          "output_type": "stream",
          "name": "stdout",
          "text": [
            "--2023-02-05 05:37:09--  https://raw.githubusercontent.com/victorgau/khpy_linenotify_intro/main/py/linenotify.py\n",
            "Resolving raw.githubusercontent.com (raw.githubusercontent.com)... 185.199.108.133, 185.199.109.133, 185.199.110.133, ...\n",
            "Connecting to raw.githubusercontent.com (raw.githubusercontent.com)|185.199.108.133|:443... connected.\n",
            "HTTP request sent, awaiting response... 200 OK\n",
            "Length: 818 [text/plain]\n",
            "Saving to: ‘linenotify.py’\n",
            "\n",
            "\rlinenotify.py         0%[                    ]       0  --.-KB/s               \rlinenotify.py       100%[===================>]     818  --.-KB/s    in 0s      \n",
            "\n",
            "2023-02-05 05:37:09 (39.1 MB/s) - ‘linenotify.py’ saved [818/818]\n",
            "\n"
          ]
        }
      ]
    },
    {
      "cell_type": "code",
      "source": [
        "from linenotify import Notify"
      ],
      "metadata": {
        "id": "zlaH8o9FFzwZ"
      },
      "execution_count": null,
      "outputs": []
    },
    {
      "cell_type": "code",
      "source": [
        "# 到 https://notify-bot.line.me/my/ 申請 token\n",
        "token = \"tMixXo9jBiIEpyPkl5IGwNUzUpLlRGUCCIEPQxJM66b\""
      ],
      "metadata": {
        "id": "VKN3FcCuGDdS"
      },
      "execution_count": null,
      "outputs": []
    },
    {
      "cell_type": "code",
      "source": [
        "# 傳送文字\n",
        "Notify(token, \"Blackpink in your area! \")"
      ],
      "metadata": {
        "colab": {
          "base_uri": "https://localhost:8080/"
        },
        "id": "MvgGW8QfMCHH",
        "outputId": "0b2987b7-c801-4715-d9ad-b51bb817faa1"
      },
      "execution_count": null,
      "outputs": [
        {
          "output_type": "execute_result",
          "data": {
            "text/plain": [
              "<Response [200]>"
            ]
          },
          "metadata": {},
          "execution_count": 48
        }
      ]
    },
    {
      "cell_type": "code",
      "source": [
        "# 傳送圖片\n",
        "Notify(token, \"你好\", 1, 5, \"Jennie.jpg\")"
      ],
      "metadata": {
        "colab": {
          "base_uri": "https://localhost:8080/"
        },
        "id": "tNVXwYKPJiJe",
        "outputId": "a4d6d2d7-bfe0-4ebb-e473-68f79cc15f87"
      },
      "execution_count": null,
      "outputs": [
        {
          "output_type": "execute_result",
          "data": {
            "text/plain": [
              "<Response [200]>"
            ]
          },
          "metadata": {},
          "execution_count": 52
        }
      ]
    },
    {
      "cell_type": "markdown",
      "source": [
        "#基本容器型別"
      ],
      "metadata": {
        "id": "k2QhR4LAUTzR"
      }
    },
    {
      "cell_type": "markdown",
      "source": [
        "* list\n",
        "* tuple\n",
        "* dict\n",
        "* set"
      ],
      "metadata": {
        "id": "eQECNfe3gxKQ"
      }
    },
    {
      "cell_type": "markdown",
      "source": [
        "### 實際範例\n",
        "\n",
        "從Jason 程式中取出實際範例"
      ],
      "metadata": {
        "id": "i1DRjPwNktvR"
      }
    },
    {
      "cell_type": "code",
      "source": [],
      "metadata": {
        "id": "aUJ9dYV5h8ai"
      },
      "execution_count": null,
      "outputs": []
    }
  ]
}