{
  "nbformat": 4,
  "nbformat_minor": 0,
  "metadata": {
    "colab": {
      "provenance": [],
      "authorship_tag": "ABX9TyNkUXr248/6FBya1hKyGkO5",
      "include_colab_link": true
    },
    "kernelspec": {
      "name": "python3",
      "display_name": "Python 3"
    },
    "language_info": {
      "name": "python"
    }
  },
  "cells": [
    {
      "cell_type": "markdown",
      "metadata": {
        "id": "view-in-github",
        "colab_type": "text"
      },
      "source": [
        "<a href=\"https://colab.research.google.com/github/immaeve/20230205-Python/blob/main/20230211.ipynb\" target=\"_parent\"><img src=\"https://colab.research.google.com/assets/colab-badge.svg\" alt=\"Open In Colab\"/></a>"
      ]
    },
    {
      "cell_type": "markdown",
      "source": [
        "# 20230211筆記"
      ],
      "metadata": {
        "id": "ZR9HBC51MXWV"
      }
    },
    {
      "cell_type": "markdown",
      "source": [
        "# 基本資料型態\n",
        "\n",
        "* int (整數)\n",
        "* float(浮點數)\n",
        "* bool (布林變數)\n",
        "* str (字串:文字訊息)\n",
        "\n",
        "**使用 Type(變數) 可以檢查變數裡面的資料型態**"
      ],
      "metadata": {
        "id": "tD5xcb2DUGVe"
      }
    },
    {
      "cell_type": "markdown",
      "source": [
        "## int"
      ],
      "metadata": {
        "id": "k1FzQWWRU09s"
      }
    },
    {
      "cell_type": "code",
      "source": [
        "x = 1"
      ],
      "metadata": {
        "id": "ywBb1G1URChf"
      },
      "execution_count": 2,
      "outputs": []
    },
    {
      "cell_type": "code",
      "source": [
        "type (x)"
      ],
      "metadata": {
        "colab": {
          "base_uri": "https://localhost:8080/"
        },
        "id": "NzynBbqOWI8l",
        "outputId": "792fbef2-7b56-43a0-ffa9-de6e57e7e6bf"
      },
      "execution_count": 3,
      "outputs": [
        {
          "output_type": "execute_result",
          "data": {
            "text/plain": [
              "int"
            ]
          },
          "metadata": {},
          "execution_count": 3
        }
      ]
    },
    {
      "cell_type": "code",
      "source": [
        "y =4/2"
      ],
      "metadata": {
        "id": "GIfJCO_OWLbT"
      },
      "execution_count": 4,
      "outputs": []
    },
    {
      "cell_type": "code",
      "source": [
        "type(y)"
      ],
      "metadata": {
        "colab": {
          "base_uri": "https://localhost:8080/"
        },
        "id": "ATO57EymWPqh",
        "outputId": "df6b2137-fa35-4ead-c847-ebced2b4942e"
      },
      "execution_count": 12,
      "outputs": [
        {
          "output_type": "execute_result",
          "data": {
            "text/plain": [
              "float"
            ]
          },
          "metadata": {},
          "execution_count": 12
        }
      ]
    },
    {
      "cell_type": "code",
      "source": [
        "z = 4//2"
      ],
      "metadata": {
        "id": "fmWe2icqYW5x"
      },
      "execution_count": 13,
      "outputs": []
    },
    {
      "cell_type": "markdown",
      "source": [
        "## 次方(**)"
      ],
      "metadata": {
        "id": "XyRRhd59XF3m"
      }
    },
    {
      "cell_type": "code",
      "source": [
        "2**2"
      ],
      "metadata": {
        "colab": {
          "base_uri": "https://localhost:8080/"
        },
        "id": "DL6x--fkXNUj",
        "outputId": "62ca9295-1c7d-41cc-e308-6e32d43ea8c7"
      },
      "execution_count": 6,
      "outputs": [
        {
          "output_type": "execute_result",
          "data": {
            "text/plain": [
              "4"
            ]
          },
          "metadata": {},
          "execution_count": 6
        }
      ]
    },
    {
      "cell_type": "code",
      "source": [
        "2**4"
      ],
      "metadata": {
        "colab": {
          "base_uri": "https://localhost:8080/"
        },
        "id": "H2uk2u8XXR2C",
        "outputId": "46cb21af-de3b-4adc-9621-e5ecce06f56a"
      },
      "execution_count": 7,
      "outputs": [
        {
          "output_type": "execute_result",
          "data": {
            "text/plain": [
              "16"
            ]
          },
          "metadata": {},
          "execution_count": 7
        }
      ]
    },
    {
      "cell_type": "markdown",
      "source": [
        "## 什麼是bool?"
      ],
      "metadata": {
        "id": "MRAAeQYCXcTW"
      }
    },
    {
      "cell_type": "code",
      "source": [
        "3 > 2"
      ],
      "metadata": {
        "colab": {
          "base_uri": "https://localhost:8080/"
        },
        "id": "mO9U3mDeXjOy",
        "outputId": "ccb13b65-3a91-4185-fd11-56037b144ee5"
      },
      "execution_count": 8,
      "outputs": [
        {
          "output_type": "execute_result",
          "data": {
            "text/plain": [
              "True"
            ]
          },
          "metadata": {},
          "execution_count": 8
        }
      ]
    },
    {
      "cell_type": "code",
      "source": [
        "True + True"
      ],
      "metadata": {
        "colab": {
          "base_uri": "https://localhost:8080/"
        },
        "id": "6cbuQDodXrlC",
        "outputId": "1015230c-b656-4efd-8300-bf7e4847dddd"
      },
      "execution_count": 9,
      "outputs": [
        {
          "output_type": "execute_result",
          "data": {
            "text/plain": [
              "2"
            ]
          },
          "metadata": {},
          "execution_count": 9
        }
      ]
    },
    {
      "cell_type": "code",
      "source": [
        "True + False"
      ],
      "metadata": {
        "colab": {
          "base_uri": "https://localhost:8080/"
        },
        "id": "EVdYOLZcYBTy",
        "outputId": "2b3ce38b-ae24-4cdc-8888-6a755a3ac9be"
      },
      "execution_count": 11,
      "outputs": [
        {
          "output_type": "execute_result",
          "data": {
            "text/plain": [
              "1"
            ]
          },
          "metadata": {},
          "execution_count": 11
        }
      ]
    },
    {
      "cell_type": "code",
      "source": [
        "## 比較兩個變數內的值有沒有相等\n",
        "x == z  "
      ],
      "metadata": {
        "colab": {
          "base_uri": "https://localhost:8080/"
        },
        "id": "BNeGzCIWYTL5",
        "outputId": "4fdbc546-f245-4715-e18e-897d4a47ead0"
      },
      "execution_count": 14,
      "outputs": [
        {
          "output_type": "execute_result",
          "data": {
            "text/plain": [
              "False"
            ]
          },
          "metadata": {},
          "execution_count": 14
        }
      ]
    },
    {
      "cell_type": "markdown",
      "source": [
        "## 關於字串"
      ],
      "metadata": {
        "id": "Tbr75BBHZGY1"
      }
    },
    {
      "cell_type": "code",
      "source": [
        "W = \"dog\""
      ],
      "metadata": {
        "id": "UuPKlUmRYsmA"
      },
      "execution_count": 15,
      "outputs": []
    },
    {
      "cell_type": "code",
      "source": [
        "U = \"It's my dog\""
      ],
      "metadata": {
        "id": "J6ocKki1ZrEE"
      },
      "execution_count": 16,
      "outputs": []
    },
    {
      "cell_type": "code",
      "source": [
        "# 使用跳脫字元 (Escape Character)\n",
        "V = 'It\\'s my dog'"
      ],
      "metadata": {
        "id": "ePVO039KZ3H0"
      },
      "execution_count": 18,
      "outputs": []
    },
    {
      "cell_type": "markdown",
      "source": [
        "## 字串的加法(+)跟乘法(*)"
      ],
      "metadata": {
        "id": "XHalX1gOfhC0"
      }
    },
    {
      "cell_type": "code",
      "source": [
        "\"abc\" + \"3\""
      ],
      "metadata": {
        "colab": {
          "base_uri": "https://localhost:8080/",
          "height": 35
        },
        "id": "Jii50tYwfona",
        "outputId": "fcc73104-49f4-4db4-84a8-c4cd5a05159c"
      },
      "execution_count": 23,
      "outputs": [
        {
          "output_type": "execute_result",
          "data": {
            "text/plain": [
              "'abc3'"
            ],
            "application/vnd.google.colaboratory.intrinsic+json": {
              "type": "string"
            }
          },
          "metadata": {},
          "execution_count": 23
        }
      ]
    },
    {
      "cell_type": "code",
      "source": [
        "\"abc\"*3"
      ],
      "metadata": {
        "colab": {
          "base_uri": "https://localhost:8080/",
          "height": 35
        },
        "id": "pEwqcW3wftBr",
        "outputId": "91a1e60f-2a32-4ef2-a643-3fd250db0906"
      },
      "execution_count": 24,
      "outputs": [
        {
          "output_type": "execute_result",
          "data": {
            "text/plain": [
              "'abcabcabc'"
            ],
            "application/vnd.google.colaboratory.intrinsic+json": {
              "type": "string"
            }
          },
          "metadata": {},
          "execution_count": 24
        }
      ]
    },
    {
      "cell_type": "markdown",
      "source": [
        "## 練習: (使用字串畫出底下的金字塔)"
      ],
      "metadata": {
        "id": "SE5_vdDVf0ut"
      }
    },
    {
      "cell_type": "code",
      "source": [
        "for i in range(5):\n",
        "  print(i)"
      ],
      "metadata": {
        "colab": {
          "base_uri": "https://localhost:8080/"
        },
        "id": "9Yiytajof_5b",
        "outputId": "9a6b0253-f932-46ef-e630-039e44c816b6"
      },
      "execution_count": 25,
      "outputs": [
        {
          "output_type": "stream",
          "name": "stdout",
          "text": [
            "0\n",
            "1\n",
            "2\n",
            "3\n",
            "4\n"
          ]
        }
      ]
    },
    {
      "cell_type": "code",
      "source": [
        "for i in range(3):\n",
        "  print(\"程式區塊開始\")\n",
        "  print(i)\n",
        "  print(\"程式區塊結束\")"
      ],
      "metadata": {
        "colab": {
          "base_uri": "https://localhost:8080/"
        },
        "id": "VzeYa48VgRuy",
        "outputId": "0b00e116-dd94-4e29-a85a-c9049d3172c5"
      },
      "execution_count": 26,
      "outputs": [
        {
          "output_type": "stream",
          "name": "stdout",
          "text": [
            "程式區塊開始\n",
            "0\n",
            "程式區塊結束\n",
            "程式區塊開始\n",
            "1\n",
            "程式區塊結束\n",
            "程式區塊開始\n",
            "2\n",
            "程式區塊結束\n"
          ]
        }
      ]
    },
    {
      "cell_type": "code",
      "source": [
        "for i in range(3):\n",
        "  print(\"程式區塊開始\")\n",
        "  print(i)\n",
        "print(\"程式區塊結束\")"
      ],
      "metadata": {
        "colab": {
          "base_uri": "https://localhost:8080/"
        },
        "id": "NVR3-7ktgtyx",
        "outputId": "e26b785e-6c35-4af6-dfce-a8349e572936"
      },
      "execution_count": 27,
      "outputs": [
        {
          "output_type": "stream",
          "name": "stdout",
          "text": [
            "程式區塊開始\n",
            "0\n",
            "程式區塊開始\n",
            "1\n",
            "程式區塊開始\n",
            "2\n",
            "程式區塊結束\n"
          ]
        }
      ]
    },
    {
      "cell_type": "code",
      "source": [
        "for i in range(5):\n",
        "  print(2*i+1)"
      ],
      "metadata": {
        "colab": {
          "base_uri": "https://localhost:8080/"
        },
        "id": "rFOLjKR0hhkF",
        "outputId": "09ea0cbc-52b8-4028-c72a-1c44cf6bfb36"
      },
      "execution_count": 29,
      "outputs": [
        {
          "output_type": "stream",
          "name": "stdout",
          "text": [
            "1\n",
            "3\n",
            "5\n",
            "7\n",
            "9\n"
          ]
        }
      ]
    },
    {
      "cell_type": "code",
      "source": [
        "for i in range(5):\n",
        "  print((5-i)*' '+(2*i+1)*'*')"
      ],
      "metadata": {
        "colab": {
          "base_uri": "https://localhost:8080/"
        },
        "id": "3MKpmPMHiY5u",
        "outputId": "d8d5bd2b-b6c6-4b25-c66c-82ed54c6711e"
      },
      "execution_count": 48,
      "outputs": [
        {
          "output_type": "stream",
          "name": "stdout",
          "text": [
            "     *\n",
            "    ***\n",
            "   *****\n",
            "  *******\n",
            " *********\n"
          ]
        }
      ]
    },
    {
      "cell_type": "markdown",
      "source": [
        "# input() 及 print ()\n",
        "\n",
        "input():用來讀取輸入\n",
        "print():用來打印輸出"
      ],
      "metadata": {
        "id": "14lr2suVkxKD"
      }
    },
    {
      "cell_type": "code",
      "source": [
        "x = input(\"請輸入一個數字:\")"
      ],
      "metadata": {
        "colab": {
          "base_uri": "https://localhost:8080/"
        },
        "id": "wzmph8sYk4V7",
        "outputId": "1cc5484f-d685-4ca0-823c-9eae6c013f32"
      },
      "execution_count": 49,
      "outputs": [
        {
          "name": "stdout",
          "output_type": "stream",
          "text": [
            "請輸入一個數字:200\n"
          ]
        }
      ]
    },
    {
      "cell_type": "code",
      "source": [
        "type(x)"
      ],
      "metadata": {
        "colab": {
          "base_uri": "https://localhost:8080/"
        },
        "id": "CLtXLuVTlKGY",
        "outputId": "f91ba684-d497-406b-d046-98ed359ffdfb"
      },
      "execution_count": 50,
      "outputs": [
        {
          "output_type": "execute_result",
          "data": {
            "text/plain": [
              "str"
            ]
          },
          "metadata": {},
          "execution_count": 50
        }
      ]
    },
    {
      "cell_type": "code",
      "source": [
        "print(x)"
      ],
      "metadata": {
        "colab": {
          "base_uri": "https://localhost:8080/"
        },
        "id": "iGYMOepwlYiF",
        "outputId": "468c0787-0903-46c6-fdc2-153e81a4dba9"
      },
      "execution_count": 51,
      "outputs": [
        {
          "output_type": "stream",
          "name": "stdout",
          "text": [
            "200\n"
          ]
        }
      ]
    },
    {
      "cell_type": "code",
      "source": [
        "x = 1\n",
        "y = 2\n",
        "z = 3\n",
        "print(x, y ,z)"
      ],
      "metadata": {
        "colab": {
          "base_uri": "https://localhost:8080/"
        },
        "id": "ZaGwHK-ElwR4",
        "outputId": "9b69347b-f50b-444b-995b-b37a5fa2e084"
      },
      "execution_count": 52,
      "outputs": [
        {
          "output_type": "stream",
          "name": "stdout",
          "text": [
            "1 2 3\n"
          ]
        }
      ]
    },
    {
      "cell_type": "code",
      "source": [
        "x = 1\n",
        "y = 2\n",
        "z = 3\n",
        "print(x, y ,z, sep=\"+\")"
      ],
      "metadata": {
        "colab": {
          "base_uri": "https://localhost:8080/"
        },
        "id": "F7e79WqZl7zH",
        "outputId": "b91d1a72-0bbb-4373-e362-27611640191c"
      },
      "execution_count": 53,
      "outputs": [
        {
          "output_type": "stream",
          "name": "stdout",
          "text": [
            "1+2+3\n"
          ]
        }
      ]
    },
    {
      "cell_type": "code",
      "source": [
        "x = 1\n",
        "y = 2\n",
        "z = 3\n",
        "print(x, y, z, sep=\"\")"
      ],
      "metadata": {
        "colab": {
          "base_uri": "https://localhost:8080/"
        },
        "id": "eCwyg708mLH5",
        "outputId": "6691bd44-afc5-4d03-e13d-97ce60c3461c"
      },
      "execution_count": 57,
      "outputs": [
        {
          "output_type": "stream",
          "name": "stdout",
          "text": [
            "123\n"
          ]
        }
      ]
    },
    {
      "cell_type": "markdown",
      "source": [
        "# 基礎容器型別\n",
        "* list\n",
        "* tuple\n",
        "* dict\n",
        "* set"
      ],
      "metadata": {
        "id": "JYjzvRDYnyNa"
      }
    }
  ]
}