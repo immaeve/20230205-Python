{
  "nbformat": 4,
  "nbformat_minor": 0,
  "metadata": {
    "colab": {
      "provenance": [],
      "authorship_tag": "ABX9TyP1vt02B2Z6gk7xqMUwp7Ly",
      "include_colab_link": true
    },
    "kernelspec": {
      "name": "python3",
      "display_name": "Python 3"
    },
    "language_info": {
      "name": "python"
    }
  },
  "cells": [
    {
      "cell_type": "markdown",
      "metadata": {
        "id": "view-in-github",
        "colab_type": "text"
      },
      "source": [
        "<a href=\"https://colab.research.google.com/github/immaeve/20230205-Python/blob/main/20230211.ipynb\" target=\"_parent\"><img src=\"https://colab.research.google.com/assets/colab-badge.svg\" alt=\"Open In Colab\"/></a>"
      ]
    },
    {
      "cell_type": "markdown",
      "source": [
        "# 20230211筆記"
      ],
      "metadata": {
        "id": "ZR9HBC51MXWV"
      }
    },
    {
      "cell_type": "markdown",
      "source": [
        "# 基本資料型態\n",
        "\n",
        "* int (整數)\n",
        "* float(浮點數)\n",
        "* bool (布林變數)\n",
        "* str (字串:文字訊息)\n",
        "\n",
        "**使用 Type(變數) 可以檢查變數裡面的資料型態**"
      ],
      "metadata": {
        "id": "tD5xcb2DUGVe"
      }
    },
    {
      "cell_type": "markdown",
      "source": [
        "## int"
      ],
      "metadata": {
        "id": "k1FzQWWRU09s"
      }
    },
    {
      "cell_type": "code",
      "source": [
        "x = 1"
      ],
      "metadata": {
        "id": "ywBb1G1URChf"
      },
      "execution_count": 2,
      "outputs": []
    },
    {
      "cell_type": "code",
      "source": [
        "type (x)"
      ],
      "metadata": {
        "colab": {
          "base_uri": "https://localhost:8080/"
        },
        "id": "NzynBbqOWI8l",
        "outputId": "792fbef2-7b56-43a0-ffa9-de6e57e7e6bf"
      },
      "execution_count": 3,
      "outputs": [
        {
          "output_type": "execute_result",
          "data": {
            "text/plain": [
              "int"
            ]
          },
          "metadata": {},
          "execution_count": 3
        }
      ]
    },
    {
      "cell_type": "code",
      "source": [
        "y =4/2"
      ],
      "metadata": {
        "id": "GIfJCO_OWLbT"
      },
      "execution_count": 4,
      "outputs": []
    },
    {
      "cell_type": "code",
      "source": [
        "type(y)"
      ],
      "metadata": {
        "colab": {
          "base_uri": "https://localhost:8080/"
        },
        "id": "ATO57EymWPqh",
        "outputId": "df6b2137-fa35-4ead-c847-ebced2b4942e"
      },
      "execution_count": 12,
      "outputs": [
        {
          "output_type": "execute_result",
          "data": {
            "text/plain": [
              "float"
            ]
          },
          "metadata": {},
          "execution_count": 12
        }
      ]
    },
    {
      "cell_type": "code",
      "source": [
        "z = 4//2"
      ],
      "metadata": {
        "id": "fmWe2icqYW5x"
      },
      "execution_count": 13,
      "outputs": []
    },
    {
      "cell_type": "markdown",
      "source": [
        "## 次方(**)"
      ],
      "metadata": {
        "id": "XyRRhd59XF3m"
      }
    },
    {
      "cell_type": "code",
      "source": [
        "2**2"
      ],
      "metadata": {
        "colab": {
          "base_uri": "https://localhost:8080/"
        },
        "id": "DL6x--fkXNUj",
        "outputId": "62ca9295-1c7d-41cc-e308-6e32d43ea8c7"
      },
      "execution_count": 6,
      "outputs": [
        {
          "output_type": "execute_result",
          "data": {
            "text/plain": [
              "4"
            ]
          },
          "metadata": {},
          "execution_count": 6
        }
      ]
    },
    {
      "cell_type": "code",
      "source": [
        "2**4"
      ],
      "metadata": {
        "colab": {
          "base_uri": "https://localhost:8080/"
        },
        "id": "H2uk2u8XXR2C",
        "outputId": "46cb21af-de3b-4adc-9621-e5ecce06f56a"
      },
      "execution_count": 7,
      "outputs": [
        {
          "output_type": "execute_result",
          "data": {
            "text/plain": [
              "16"
            ]
          },
          "metadata": {},
          "execution_count": 7
        }
      ]
    },
    {
      "cell_type": "markdown",
      "source": [
        "## 什麼是bool?"
      ],
      "metadata": {
        "id": "MRAAeQYCXcTW"
      }
    },
    {
      "cell_type": "code",
      "source": [
        "3 > 2"
      ],
      "metadata": {
        "colab": {
          "base_uri": "https://localhost:8080/"
        },
        "id": "mO9U3mDeXjOy",
        "outputId": "ccb13b65-3a91-4185-fd11-56037b144ee5"
      },
      "execution_count": 8,
      "outputs": [
        {
          "output_type": "execute_result",
          "data": {
            "text/plain": [
              "True"
            ]
          },
          "metadata": {},
          "execution_count": 8
        }
      ]
    },
    {
      "cell_type": "code",
      "source": [
        "True + True"
      ],
      "metadata": {
        "colab": {
          "base_uri": "https://localhost:8080/"
        },
        "id": "6cbuQDodXrlC",
        "outputId": "1015230c-b656-4efd-8300-bf7e4847dddd"
      },
      "execution_count": 9,
      "outputs": [
        {
          "output_type": "execute_result",
          "data": {
            "text/plain": [
              "2"
            ]
          },
          "metadata": {},
          "execution_count": 9
        }
      ]
    },
    {
      "cell_type": "code",
      "source": [
        "True + False"
      ],
      "metadata": {
        "colab": {
          "base_uri": "https://localhost:8080/"
        },
        "id": "EVdYOLZcYBTy",
        "outputId": "2b3ce38b-ae24-4cdc-8888-6a755a3ac9be"
      },
      "execution_count": 11,
      "outputs": [
        {
          "output_type": "execute_result",
          "data": {
            "text/plain": [
              "1"
            ]
          },
          "metadata": {},
          "execution_count": 11
        }
      ]
    },
    {
      "cell_type": "code",
      "source": [
        "## 比較兩個變數內的值有沒有相等\n",
        "x == z  "
      ],
      "metadata": {
        "colab": {
          "base_uri": "https://localhost:8080/"
        },
        "id": "BNeGzCIWYTL5",
        "outputId": "4fdbc546-f245-4715-e18e-897d4a47ead0"
      },
      "execution_count": 14,
      "outputs": [
        {
          "output_type": "execute_result",
          "data": {
            "text/plain": [
              "False"
            ]
          },
          "metadata": {},
          "execution_count": 14
        }
      ]
    },
    {
      "cell_type": "markdown",
      "source": [
        "## 關於字串"
      ],
      "metadata": {
        "id": "Tbr75BBHZGY1"
      }
    },
    {
      "cell_type": "code",
      "source": [
        "W = \"dog\""
      ],
      "metadata": {
        "id": "UuPKlUmRYsmA"
      },
      "execution_count": 15,
      "outputs": []
    },
    {
      "cell_type": "code",
      "source": [
        "U = \"It's my dog\""
      ],
      "metadata": {
        "id": "J6ocKki1ZrEE"
      },
      "execution_count": 16,
      "outputs": []
    },
    {
      "cell_type": "code",
      "source": [
        "# 使用跳脫字元 (Escape Character)\n",
        "V = 'It\\'s my dog'"
      ],
      "metadata": {
        "id": "ePVO039KZ3H0"
      },
      "execution_count": 18,
      "outputs": []
    },
    {
      "cell_type": "markdown",
      "source": [
        "## 字串的加法(+)跟乘法(*)"
      ],
      "metadata": {
        "id": "XHalX1gOfhC0"
      }
    },
    {
      "cell_type": "code",
      "source": [
        "\"abc\" + \"3\""
      ],
      "metadata": {
        "colab": {
          "base_uri": "https://localhost:8080/",
          "height": 35
        },
        "id": "Jii50tYwfona",
        "outputId": "fcc73104-49f4-4db4-84a8-c4cd5a05159c"
      },
      "execution_count": 23,
      "outputs": [
        {
          "output_type": "execute_result",
          "data": {
            "text/plain": [
              "'abc3'"
            ],
            "application/vnd.google.colaboratory.intrinsic+json": {
              "type": "string"
            }
          },
          "metadata": {},
          "execution_count": 23
        }
      ]
    },
    {
      "cell_type": "code",
      "source": [
        "\"abc\"*3"
      ],
      "metadata": {
        "colab": {
          "base_uri": "https://localhost:8080/",
          "height": 35
        },
        "id": "pEwqcW3wftBr",
        "outputId": "91a1e60f-2a32-4ef2-a643-3fd250db0906"
      },
      "execution_count": 24,
      "outputs": [
        {
          "output_type": "execute_result",
          "data": {
            "text/plain": [
              "'abcabcabc'"
            ],
            "application/vnd.google.colaboratory.intrinsic+json": {
              "type": "string"
            }
          },
          "metadata": {},
          "execution_count": 24
        }
      ]
    },
    {
      "cell_type": "markdown",
      "source": [
        "## 練習: (使用字串畫出底下的金字塔)"
      ],
      "metadata": {
        "id": "SE5_vdDVf0ut"
      }
    },
    {
      "cell_type": "code",
      "source": [
        "for i in range(5):\n",
        "  print(i)"
      ],
      "metadata": {
        "colab": {
          "base_uri": "https://localhost:8080/"
        },
        "id": "9Yiytajof_5b",
        "outputId": "9a6b0253-f932-46ef-e630-039e44c816b6"
      },
      "execution_count": 25,
      "outputs": [
        {
          "output_type": "stream",
          "name": "stdout",
          "text": [
            "0\n",
            "1\n",
            "2\n",
            "3\n",
            "4\n"
          ]
        }
      ]
    },
    {
      "cell_type": "code",
      "source": [
        "for i in range(3):\n",
        "  print(\"程式區塊開始\")\n",
        "  print(i)\n",
        "  print(\"程式區塊結束\")"
      ],
      "metadata": {
        "colab": {
          "base_uri": "https://localhost:8080/"
        },
        "id": "VzeYa48VgRuy",
        "outputId": "0b00e116-dd94-4e29-a85a-c9049d3172c5"
      },
      "execution_count": 26,
      "outputs": [
        {
          "output_type": "stream",
          "name": "stdout",
          "text": [
            "程式區塊開始\n",
            "0\n",
            "程式區塊結束\n",
            "程式區塊開始\n",
            "1\n",
            "程式區塊結束\n",
            "程式區塊開始\n",
            "2\n",
            "程式區塊結束\n"
          ]
        }
      ]
    },
    {
      "cell_type": "code",
      "source": [
        "for i in range(3):\n",
        "  print(\"程式區塊開始\")\n",
        "  print(i)\n",
        "print(\"程式區塊結束\")"
      ],
      "metadata": {
        "colab": {
          "base_uri": "https://localhost:8080/"
        },
        "id": "NVR3-7ktgtyx",
        "outputId": "e26b785e-6c35-4af6-dfce-a8349e572936"
      },
      "execution_count": 27,
      "outputs": [
        {
          "output_type": "stream",
          "name": "stdout",
          "text": [
            "程式區塊開始\n",
            "0\n",
            "程式區塊開始\n",
            "1\n",
            "程式區塊開始\n",
            "2\n",
            "程式區塊結束\n"
          ]
        }
      ]
    },
    {
      "cell_type": "code",
      "source": [
        "for i in range(5):\n",
        "  print(2*i+1)"
      ],
      "metadata": {
        "colab": {
          "base_uri": "https://localhost:8080/"
        },
        "id": "rFOLjKR0hhkF",
        "outputId": "09ea0cbc-52b8-4028-c72a-1c44cf6bfb36"
      },
      "execution_count": 29,
      "outputs": [
        {
          "output_type": "stream",
          "name": "stdout",
          "text": [
            "1\n",
            "3\n",
            "5\n",
            "7\n",
            "9\n"
          ]
        }
      ]
    },
    {
      "cell_type": "code",
      "source": [
        "for i in range(5):\n",
        "  print((5-i)*' '+(2*i+1)*'*')"
      ],
      "metadata": {
        "colab": {
          "base_uri": "https://localhost:8080/"
        },
        "id": "3MKpmPMHiY5u",
        "outputId": "d8d5bd2b-b6c6-4b25-c66c-82ed54c6711e"
      },
      "execution_count": 48,
      "outputs": [
        {
          "output_type": "stream",
          "name": "stdout",
          "text": [
            "     *\n",
            "    ***\n",
            "   *****\n",
            "  *******\n",
            " *********\n"
          ]
        }
      ]
    },
    {
      "cell_type": "markdown",
      "source": [
        "# input() 及 print ()\n",
        "\n",
        "input():用來讀取輸入\n",
        "print():用來打印輸出"
      ],
      "metadata": {
        "id": "14lr2suVkxKD"
      }
    },
    {
      "cell_type": "code",
      "source": [
        "x = input(\"請輸入一個數字:\")"
      ],
      "metadata": {
        "colab": {
          "base_uri": "https://localhost:8080/"
        },
        "id": "wzmph8sYk4V7",
        "outputId": "1cc5484f-d685-4ca0-823c-9eae6c013f32"
      },
      "execution_count": 49,
      "outputs": [
        {
          "name": "stdout",
          "output_type": "stream",
          "text": [
            "請輸入一個數字:200\n"
          ]
        }
      ]
    },
    {
      "cell_type": "code",
      "source": [
        "type(x)"
      ],
      "metadata": {
        "colab": {
          "base_uri": "https://localhost:8080/"
        },
        "id": "CLtXLuVTlKGY",
        "outputId": "f91ba684-d497-406b-d046-98ed359ffdfb"
      },
      "execution_count": 50,
      "outputs": [
        {
          "output_type": "execute_result",
          "data": {
            "text/plain": [
              "str"
            ]
          },
          "metadata": {},
          "execution_count": 50
        }
      ]
    },
    {
      "cell_type": "code",
      "source": [
        "print(x)"
      ],
      "metadata": {
        "colab": {
          "base_uri": "https://localhost:8080/"
        },
        "id": "iGYMOepwlYiF",
        "outputId": "468c0787-0903-46c6-fdc2-153e81a4dba9"
      },
      "execution_count": 51,
      "outputs": [
        {
          "output_type": "stream",
          "name": "stdout",
          "text": [
            "200\n"
          ]
        }
      ]
    },
    {
      "cell_type": "code",
      "source": [
        "x = 1\n",
        "y = 2\n",
        "z = 3\n",
        "print(x, y ,z)"
      ],
      "metadata": {
        "colab": {
          "base_uri": "https://localhost:8080/"
        },
        "id": "ZaGwHK-ElwR4",
        "outputId": "9b69347b-f50b-444b-995b-b37a5fa2e084"
      },
      "execution_count": 52,
      "outputs": [
        {
          "output_type": "stream",
          "name": "stdout",
          "text": [
            "1 2 3\n"
          ]
        }
      ]
    },
    {
      "cell_type": "code",
      "source": [
        "x = 1\n",
        "y = 2\n",
        "z = 3\n",
        "print(x, y ,z, sep=\"+\")"
      ],
      "metadata": {
        "colab": {
          "base_uri": "https://localhost:8080/"
        },
        "id": "F7e79WqZl7zH",
        "outputId": "b91d1a72-0bbb-4373-e362-27611640191c"
      },
      "execution_count": 53,
      "outputs": [
        {
          "output_type": "stream",
          "name": "stdout",
          "text": [
            "1+2+3\n"
          ]
        }
      ]
    },
    {
      "cell_type": "code",
      "source": [
        "x = 1\n",
        "y = 2\n",
        "z = 3\n",
        "print(x, y, z, sep=\"\")"
      ],
      "metadata": {
        "colab": {
          "base_uri": "https://localhost:8080/"
        },
        "id": "eCwyg708mLH5",
        "outputId": "6691bd44-afc5-4d03-e13d-97ce60c3461c"
      },
      "execution_count": 57,
      "outputs": [
        {
          "output_type": "stream",
          "name": "stdout",
          "text": [
            "123\n"
          ]
        }
      ]
    },
    {
      "cell_type": "markdown",
      "source": [
        "# 基礎容器型別\n",
        "* list\n",
        "* tuple\n",
        "* dict\n",
        "* set"
      ],
      "metadata": {
        "id": "JYjzvRDYnyNa"
      }
    },
    {
      "cell_type": "markdown",
      "source": [
        "list"
      ],
      "metadata": {
        "id": "_pGboPjY4uSO"
      }
    },
    {
      "cell_type": "code",
      "source": [
        "x = ['a', 'b', 'c', 'd', 'e']"
      ],
      "metadata": {
        "id": "R5zNpx9x41DC"
      },
      "execution_count": 59,
      "outputs": []
    },
    {
      "cell_type": "code",
      "source": [
        "y = list('abcde')"
      ],
      "metadata": {
        "id": "aDWkxsql5DyD"
      },
      "execution_count": 60,
      "outputs": []
    },
    {
      "cell_type": "markdown",
      "source": [
        "## dic (字典)"
      ],
      "metadata": {
        "id": "vJY4YebH8kCY"
      }
    },
    {
      "cell_type": "code",
      "source": [
        "# 建立一個空字典\n",
        "d = {}"
      ],
      "metadata": {
        "id": "m-WWDKNw8rjg"
      },
      "execution_count": 65,
      "outputs": []
    },
    {
      "cell_type": "code",
      "source": [
        "# 加入一筆資料\n",
        "d[\"cat\"] = \"貓咪\""
      ],
      "metadata": {
        "id": "wKuKXVop8wVI"
      },
      "execution_count": 66,
      "outputs": []
    },
    {
      "cell_type": "code",
      "source": [
        "d"
      ],
      "metadata": {
        "colab": {
          "base_uri": "https://localhost:8080/"
        },
        "id": "UYt2S9Tb9Eno",
        "outputId": "1f1bd8a1-5adb-4645-b83a-3015a97ca465"
      },
      "execution_count": 67,
      "outputs": [
        {
          "output_type": "execute_result",
          "data": {
            "text/plain": [
              "{'cat': '貓咪'}"
            ]
          },
          "metadata": {},
          "execution_count": 67
        }
      ]
    },
    {
      "cell_type": "code",
      "source": [
        "d[\"dog\"] = \"狗狗\""
      ],
      "metadata": {
        "id": "i2HQgSYK9aIm"
      },
      "execution_count": 68,
      "outputs": []
    },
    {
      "cell_type": "code",
      "source": [
        "d"
      ],
      "metadata": {
        "colab": {
          "base_uri": "https://localhost:8080/"
        },
        "id": "GK2cHvps9gEB",
        "outputId": "4c49fbba-00d1-49bc-f8ac-3c04eb6b99b2"
      },
      "execution_count": 69,
      "outputs": [
        {
          "output_type": "execute_result",
          "data": {
            "text/plain": [
              "{'cat': '貓咪', 'dog': '狗狗'}"
            ]
          },
          "metadata": {},
          "execution_count": 69
        }
      ]
    },
    {
      "cell_type": "code",
      "source": [
        "# 查詢資料\n",
        "d['cat']"
      ],
      "metadata": {
        "colab": {
          "base_uri": "https://localhost:8080/",
          "height": 35
        },
        "id": "tdW8BjUT9iSm",
        "outputId": "7cbb794c-6935-4527-ae0d-8ac200db8a0e"
      },
      "execution_count": 70,
      "outputs": [
        {
          "output_type": "execute_result",
          "data": {
            "text/plain": [
              "'貓咪'"
            ],
            "application/vnd.google.colaboratory.intrinsic+json": {
              "type": "string"
            }
          },
          "metadata": {},
          "execution_count": 70
        }
      ]
    },
    {
      "cell_type": "code",
      "source": [
        "d[\"貓咪\"] = \"cat\""
      ],
      "metadata": {
        "id": "wMRzrJN7-A3k"
      },
      "execution_count": 72,
      "outputs": []
    },
    {
      "cell_type": "code",
      "source": [
        "d[\"貓咪\"]"
      ],
      "metadata": {
        "colab": {
          "base_uri": "https://localhost:8080/",
          "height": 35
        },
        "id": "qsWUclj8-Ggc",
        "outputId": "97763545-0249-4416-bbc9-158d639d1c4f"
      },
      "execution_count": 73,
      "outputs": [
        {
          "output_type": "execute_result",
          "data": {
            "text/plain": [
              "'cat'"
            ],
            "application/vnd.google.colaboratory.intrinsic+json": {
              "type": "string"
            }
          },
          "metadata": {},
          "execution_count": 73
        }
      ]
    },
    {
      "cell_type": "markdown",
      "source": [
        "## for迴圈與list及dict的合用"
      ],
      "metadata": {
        "id": "XA-DEQz--xGu"
      }
    },
    {
      "cell_type": "code",
      "source": [
        "for i in range(5):\n",
        "  print(i)"
      ],
      "metadata": {
        "colab": {
          "base_uri": "https://localhost:8080/"
        },
        "id": "LjqF7LNp-4cd",
        "outputId": "dde0d8d6-092d-4885-eca0-ee0348fa528f"
      },
      "execution_count": 74,
      "outputs": [
        {
          "output_type": "stream",
          "name": "stdout",
          "text": [
            "0\n",
            "1\n",
            "2\n",
            "3\n",
            "4\n"
          ]
        }
      ]
    },
    {
      "cell_type": "code",
      "source": [
        "x"
      ],
      "metadata": {
        "colab": {
          "base_uri": "https://localhost:8080/"
        },
        "id": "-nkqA8Z9_L_c",
        "outputId": "434ed367-c05e-45fa-d0f2-108d0ed36e7e"
      },
      "execution_count": 75,
      "outputs": [
        {
          "output_type": "execute_result",
          "data": {
            "text/plain": [
              "['a', 'b', 'c', 'd', 'e']"
            ]
          },
          "metadata": {},
          "execution_count": 75
        }
      ]
    },
    {
      "cell_type": "code",
      "source": [
        "for i in x:\n",
        "  print(i)"
      ],
      "metadata": {
        "colab": {
          "base_uri": "https://localhost:8080/"
        },
        "id": "J5LrwNlT_Oc2",
        "outputId": "003fdbeb-9649-46f8-f820-db06da311913"
      },
      "execution_count": 79,
      "outputs": [
        {
          "output_type": "stream",
          "name": "stdout",
          "text": [
            "a\n",
            "b\n",
            "c\n",
            "d\n",
            "e\n"
          ]
        }
      ]
    },
    {
      "cell_type": "code",
      "source": [
        "#for迴圈跟字典合用\n",
        "for i in d:\n",
        "  print(i)"
      ],
      "metadata": {
        "colab": {
          "base_uri": "https://localhost:8080/"
        },
        "id": "yuID1jOz_jiR",
        "outputId": "b51e3165-b4a3-4aab-fbfc-f632d6d91b1c"
      },
      "execution_count": 80,
      "outputs": [
        {
          "output_type": "stream",
          "name": "stdout",
          "text": [
            "cat\n",
            "dog\n",
            "貓咪\n"
          ]
        }
      ]
    },
    {
      "cell_type": "code",
      "source": [
        "for i in d:\n",
        "  print(d[i])"
      ],
      "metadata": {
        "colab": {
          "base_uri": "https://localhost:8080/"
        },
        "id": "H5L0SDeNASeE",
        "outputId": "ac0e249f-2cf5-4220-c843-3e864a82dc71"
      },
      "execution_count": 81,
      "outputs": [
        {
          "output_type": "stream",
          "name": "stdout",
          "text": [
            "貓咪\n",
            "狗狗\n",
            "cat\n"
          ]
        }
      ]
    },
    {
      "cell_type": "markdown",
      "source": [
        "#使用requests抓取網路資料"
      ],
      "metadata": {
        "id": "0pTlDfnmMtCp"
      }
    },
    {
      "cell_type": "markdown",
      "source": [
        "## 抓取網頁原始碼"
      ],
      "metadata": {
        "id": "qzssweigNSFx"
      }
    },
    {
      "cell_type": "code",
      "source": [
        "url = \"http://victorgau.github.io/khpy_web_intro/html_only.html\""
      ],
      "metadata": {
        "id": "FEvjFiHEM1bZ"
      },
      "execution_count": 82,
      "outputs": []
    },
    {
      "cell_type": "code",
      "source": [
        "# 載入requests,用來抓取網路上的資料\n",
        "import requests"
      ],
      "metadata": {
        "id": "ACvU2KWLOKos"
      },
      "execution_count": 83,
      "outputs": []
    },
    {
      "cell_type": "code",
      "source": [
        "# 取得特定網址的網頁原始碼,並將回傳的內容(包含headers)放入變數r\n",
        "r= requests.get(url)"
      ],
      "metadata": {
        "id": "Zi0y_loEOVfc"
      },
      "execution_count": 85,
      "outputs": []
    },
    {
      "cell_type": "code",
      "source": [],
      "metadata": {
        "id": "PO6JHnYLOsJj"
      },
      "execution_count": null,
      "outputs": []
    },
    {
      "cell_type": "code",
      "source": [],
      "metadata": {
        "id": "vgwtm8RRO46U"
      },
      "execution_count": null,
      "outputs": []
    },
    {
      "cell_type": "markdown",
      "source": [
        "## 使用requests呼叫web API,寫一個中文字典\n",
        "\n",
        "API是一個提供給應用程式使用程式來存取特定服務的介面"
      ],
      "metadata": {
        "id": "nbPmAuYLOu9r"
      }
    },
    {
      "cell_type": "markdown",
      "source": [
        "##方法一"
      ],
      "metadata": {
        "id": "3QAPEVoyQyOV"
      }
    },
    {
      "cell_type": "code",
      "source": [
        "q = \"教室\""
      ],
      "metadata": {
        "id": "oLRVsCPLQ5dQ"
      },
      "execution_count": 86,
      "outputs": []
    },
    {
      "cell_type": "code",
      "source": [
        "url = \"http://www.moedict.tw/uni/\" + q"
      ],
      "metadata": {
        "id": "fp1msDMVRAb9"
      },
      "execution_count": 89,
      "outputs": []
    },
    {
      "cell_type": "code",
      "source": [
        "url"
      ],
      "metadata": {
        "colab": {
          "base_uri": "https://localhost:8080/",
          "height": 35
        },
        "id": "AQAI2JljRa5h",
        "outputId": "0225a9e8-8418-4e2c-c8dc-c2b3af8180d2"
      },
      "execution_count": 90,
      "outputs": [
        {
          "output_type": "execute_result",
          "data": {
            "text/plain": [
              "'http://www.moedict.tw/uni/教室'"
            ],
            "application/vnd.google.colaboratory.intrinsic+json": {
              "type": "string"
            }
          },
          "metadata": {},
          "execution_count": 90
        }
      ]
    },
    {
      "cell_type": "code",
      "source": [
        "r = requests.get(url)"
      ],
      "metadata": {
        "id": "a5unuORARf10"
      },
      "execution_count": 91,
      "outputs": []
    },
    {
      "cell_type": "code",
      "source": [
        "print(r.text)"
      ],
      "metadata": {
        "colab": {
          "base_uri": "https://localhost:8080/"
        },
        "id": "tBLld9D8RmHd",
        "outputId": "d9a1cb82-0a88-481d-e444-12b17acba455"
      },
      "execution_count": 92,
      "outputs": [
        {
          "output_type": "stream",
          "name": "stdout",
          "text": [
            "\t{\n",
            "\t\t\"heteronyms\": [\n",
            "\t\t\t{\n",
            "\t\t\t\t\"bopomofo\": \"ㄐㄧㄠˋ ㄕˋ\",\n",
            "\t\t\t\t\"bopomofo2\": \"jiàu shr̀\",\n",
            "\t\t\t\t\"definitions\": [\n",
            "\t\t\t\t\t{\n",
            "\t\t\t\t\t\t\"def\": \"學校裡進行教學活動的房間。\",\n",
            "\t\t\t\t\t\t\"example\": [\n",
            "\t\t\t\t\t\t\t\"如：「實驗教室」、「音樂教室」。\"\n",
            "\t\t\t\t\t\t],\n",
            "\t\t\t\t\t\t\"synonyms\": \"課堂,講堂\"\n",
            "\t\t\t\t\t}\n",
            "\t\t\t\t],\n",
            "\t\t\t\t\"pinyin\": \"jiào shì\"\n",
            "\t\t\t}\n",
            "\t\t],\n",
            "\t\t\"title\": \"教室\"\n",
            "\t}\n"
          ]
        }
      ]
    },
    {
      "cell_type": "markdown",
      "source": [
        "## 剖析資料"
      ],
      "metadata": {
        "id": "-AAPtkAyUsd5"
      }
    },
    {
      "cell_type": "markdown",
      "source": [
        "#### request.get(url).jason()是啥?\n",
        "\n",
        "底下兩個東西結果是一樣的:\n",
        "'''python\n",
        "import requests\n",
        "import jason\n",
        "\n",
        "r = requests.get(url)\n",
        "data = jason.loads(r.text)\n",
        "\n",
        "作法二:\n",
        "\n",
        "import requests\n",
        "\n",
        "data = requests.get(url).jason()"
      ],
      "metadata": {
        "id": "uyoI08Sybi_z"
      }
    },
    {
      "cell_type": "markdown",
      "source": [
        "# 讀取0050的成份股\n",
        "http://www.yuantaetfs.com/api/StkWeights?date=&fundid=1066"
      ],
      "metadata": {
        "id": "u3DmNCJYd2z1"
      }
    },
    {
      "cell_type": "code",
      "source": [
        "requests.get(url).json()"
      ],
      "metadata": {
        "colab": {
          "base_uri": "https://localhost:8080/"
        },
        "id": "cLFhhQ0tauOC",
        "outputId": "94e0ca11-d1c5-47f5-e979-f1b259732ab5"
      },
      "execution_count": 95,
      "outputs": [
        {
          "output_type": "execute_result",
          "data": {
            "text/plain": [
              "{'heteronyms': [{'bopomofo': 'ㄐㄧㄠˋ ㄕˋ',\n",
              "   'bopomofo2': 'jiàu shr̀',\n",
              "   'definitions': [{'def': '學校裡進行教學活動的房間。',\n",
              "     'example': ['如：「實驗教室」、「音樂教室」。'],\n",
              "     'synonyms': '課堂,講堂'}],\n",
              "   'pinyin': 'jiào shì'}],\n",
              " 'title': '教室'}"
            ]
          },
          "metadata": {},
          "execution_count": 95
        }
      ]
    }
  ]
}